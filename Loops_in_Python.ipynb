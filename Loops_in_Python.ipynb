{
  "nbformat": 4,
  "nbformat_minor": 0,
  "metadata": {
    "colab": {
      "provenance": [],
      "authorship_tag": "ABX9TyMK+6s3Qt1ObrmG8A4ePrf4",
      "include_colab_link": true
    },
    "kernelspec": {
      "name": "python3",
      "display_name": "Python 3"
    },
    "language_info": {
      "name": "python"
    }
  },
  "cells": [
    {
      "cell_type": "markdown",
      "metadata": {
        "id": "view-in-github",
        "colab_type": "text"
      },
      "source": [
        "<a href=\"https://colab.research.google.com/github/DivyaLakshmi003/ML-tutorial/blob/main/Loops_in_Python.ipynb\" target=\"_parent\"><img src=\"https://colab.research.google.com/assets/colab-badge.svg\" alt=\"Open In Colab\"/></a>"
      ]
    },
    {
      "cell_type": "markdown",
      "source": [
        "For loop"
      ],
      "metadata": {
        "id": "-9B2jV0vgwMO"
      }
    },
    {
      "cell_type": "code",
      "execution_count": 2,
      "metadata": {
        "colab": {
          "base_uri": "https://localhost:8080/"
        },
        "id": "L-C7Tz2cgo-L",
        "outputId": "e474f6b2-358e-4c50-8080-74a1c733968a"
      },
      "outputs": [
        {
          "output_type": "stream",
          "name": "stdout",
          "text": [
            "List items is:  1\n",
            "List items is:  2\n",
            "List items is:  3.5\n",
            "List items is:  for loop running\n",
            "List items is:  True\n"
          ]
        }
      ],
      "source": [
        "list1 = [1, 2, 3.5, 'for loop running', True]\n",
        "\n",
        "for i in range(len(list1)):\n",
        "  print('List items is: ', list1[i])"
      ]
    },
    {
      "cell_type": "code",
      "source": [
        "list1 = [1, 2, 3.5, 'for loop running', True]\n",
        "\n",
        "for it in list1:\n",
        "  print('List items is: ', it)"
      ],
      "metadata": {
        "colab": {
          "base_uri": "https://localhost:8080/"
        },
        "id": "I6eO2PEGhdzb",
        "outputId": "d3e97ab0-aa1c-4ffb-a9b8-76bd001a9d5f"
      },
      "execution_count": 5,
      "outputs": [
        {
          "output_type": "stream",
          "name": "stdout",
          "text": [
            "List items is:  1\n",
            "List items is:  2\n",
            "List items is:  3.5\n",
            "List items is:  for loop running\n",
            "List items is:  True\n"
          ]
        }
      ]
    },
    {
      "cell_type": "markdown",
      "source": [
        "While loop"
      ],
      "metadata": {
        "id": "ZkkEEbz1jBiy"
      }
    },
    {
      "cell_type": "code",
      "source": [
        "list1 = [1, 2, 3.5, 'for loop running', True]\n",
        "\n",
        "i = 0\n",
        "while i < len(list1):\n",
        "  print('List items is: ', list1[i])\n",
        "  i += 1"
      ],
      "metadata": {
        "colab": {
          "base_uri": "https://localhost:8080/"
        },
        "id": "dVQAV1PMiiIL",
        "outputId": "5af8ab19-599a-4117-ee9a-d735e0089c07"
      },
      "execution_count": 9,
      "outputs": [
        {
          "output_type": "stream",
          "name": "stdout",
          "text": [
            "List items is:  1\n",
            "List items is:  2\n",
            "List items is:  3.5\n",
            "List items is:  for loop running\n",
            "List items is:  True\n"
          ]
        }
      ]
    },
    {
      "cell_type": "code",
      "source": [
        "i = 0\n",
        "\n",
        "while i < 5:\n",
        "  print(\"number is : \", i)\n",
        "  i += 1"
      ],
      "metadata": {
        "colab": {
          "base_uri": "https://localhost:8080/"
        },
        "id": "FYVSdOVQjRKq",
        "outputId": "4fe96a0d-8924-4488-f7e1-1835376f2849"
      },
      "execution_count": 7,
      "outputs": [
        {
          "output_type": "stream",
          "name": "stdout",
          "text": [
            "number is :  0\n",
            "number is :  1\n",
            "number is :  2\n",
            "number is :  3\n",
            "number is :  4\n"
          ]
        }
      ]
    },
    {
      "cell_type": "code",
      "source": [
        "i = 5\n",
        "# this while loop will not work as the condition is not valid so it will skip printing the numbers\n",
        "while i < 5:\n",
        "  print(\"number is : \", i)\n",
        "  i += 1"
      ],
      "metadata": {
        "id": "_zLY5WRujiVx"
      },
      "execution_count": 10,
      "outputs": []
    }
  ]
}