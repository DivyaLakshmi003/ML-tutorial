{
  "nbformat": 4,
  "nbformat_minor": 0,
  "metadata": {
    "colab": {
      "provenance": [],
      "authorship_tag": "ABX9TyNLKjxjUJySy2Nwz+yTyyb3",
      "include_colab_link": true
    },
    "kernelspec": {
      "name": "python3",
      "display_name": "Python 3"
    },
    "language_info": {
      "name": "python"
    }
  },
  "cells": [
    {
      "cell_type": "markdown",
      "metadata": {
        "id": "view-in-github",
        "colab_type": "text"
      },
      "source": [
        "<a href=\"https://colab.research.google.com/github/DivyaLakshmi003/ML-tutorial/blob/main/Complete_Numpy_Tutorial_in_Python.ipynb\" target=\"_parent\"><img src=\"https://colab.research.google.com/assets/colab-badge.svg\" alt=\"Open In Colab\"/></a>"
      ]
    },
    {
      "cell_type": "markdown",
      "source": [
        "NumPy - Numerical Python\n",
        "\n",
        "Advantages of NumPy Python\n",
        "  1. Allows several Mathematical Operations\n",
        "  2. Faster Operations"
      ],
      "metadata": {
        "id": "7VV7jTeOoi1G"
      }
    },
    {
      "cell_type": "code",
      "execution_count": 1,
      "metadata": {
        "id": "TGxRHjzIocrK"
      },
      "outputs": [],
      "source": [
        "import numpy as np"
      ]
    },
    {
      "cell_type": "markdown",
      "source": [
        "List vs Numpy - Time Taken"
      ],
      "metadata": {
        "id": "k-tszFL9wRhC"
      }
    },
    {
      "cell_type": "code",
      "source": [
        "from time import process_time"
      ],
      "metadata": {
        "id": "CwOwDrQdvhoq"
      },
      "execution_count": 2,
      "outputs": []
    },
    {
      "cell_type": "markdown",
      "source": [
        "Time taken by a list"
      ],
      "metadata": {
        "id": "p9F1EbNdwZsT"
      }
    },
    {
      "cell_type": "code",
      "source": [
        "pythonList = [i for i in range(1000000)]\n",
        "\n",
        "startTime = process_time()\n",
        "\n",
        "pythonList = [i+5 for i in pythonList]\n",
        "\n",
        "endTime = process_time()\n",
        "\n",
        "print(endTime - startTime)"
      ],
      "metadata": {
        "colab": {
          "base_uri": "https://localhost:8080/"
        },
        "id": "WsVZOxa5wYu4",
        "outputId": "bf619b9a-0568-46e7-c603-e035e4915d66"
      },
      "execution_count": 16,
      "outputs": [
        {
          "output_type": "stream",
          "name": "stdout",
          "text": [
            "0.12547907599999952\n"
          ]
        }
      ]
    },
    {
      "cell_type": "code",
      "source": [
        "npArray = np.array([i for i in range(1000000)])\n",
        "\n",
        "startTime = process_time()\n",
        "\n",
        "npArray += 5\n",
        "\n",
        "endTime = process_time()\n",
        "\n",
        "print(endTime - startTime)"
      ],
      "metadata": {
        "colab": {
          "base_uri": "https://localhost:8080/"
        },
        "id": "aWJzao8ew5HQ",
        "outputId": "7db6f9d9-c12a-474f-c921-00ecb1422376"
      },
      "execution_count": 17,
      "outputs": [
        {
          "output_type": "stream",
          "name": "stdout",
          "text": [
            "0.001291233000001668\n"
          ]
        }
      ]
    },
    {
      "cell_type": "markdown",
      "source": [
        "Numpy Arrays"
      ],
      "metadata": {
        "id": "NsOPHOpjyzsX"
      }
    },
    {
      "cell_type": "code",
      "source": [
        "# list\n",
        "list1 = [1, 2, 3, 4, 5]\n",
        "print(list1)\n",
        "type(list1)"
      ],
      "metadata": {
        "colab": {
          "base_uri": "https://localhost:8080/"
        },
        "id": "Cu_EI4-0xq0p",
        "outputId": "a841215e-c51e-451c-c3bb-6012ebca4d01"
      },
      "execution_count": 18,
      "outputs": [
        {
          "output_type": "stream",
          "name": "stdout",
          "text": [
            "[1, 2, 3, 4, 5]\n"
          ]
        },
        {
          "output_type": "execute_result",
          "data": {
            "text/plain": [
              "list"
            ]
          },
          "metadata": {},
          "execution_count": 18
        }
      ]
    },
    {
      "cell_type": "code",
      "source": [
        "# numpy array\n",
        "numpyArr = np.array([1, 2, 3, 4, 5])\n",
        "print(numpyArr)\n",
        "type(numpyArr)"
      ],
      "metadata": {
        "colab": {
          "base_uri": "https://localhost:8080/"
        },
        "id": "8zTWNzEZzBCm",
        "outputId": "19ec3532-78bf-4fac-d0c9-b86cadd0556f"
      },
      "execution_count": 20,
      "outputs": [
        {
          "output_type": "stream",
          "name": "stdout",
          "text": [
            "[1 2 3 4 5]\n"
          ]
        },
        {
          "output_type": "execute_result",
          "data": {
            "text/plain": [
              "numpy.ndarray"
            ]
          },
          "metadata": {},
          "execution_count": 20
        }
      ]
    },
    {
      "cell_type": "code",
      "source": [
        "# creating a 1 dimensional array in numpy\n",
        "a = np.array([1, 2, 3, 4, 5])\n",
        "print(a)"
      ],
      "metadata": {
        "colab": {
          "base_uri": "https://localhost:8080/"
        },
        "id": "aOPuMeVxzOk2",
        "outputId": "8811ec84-a569-4cf3-8b7f-52e0498cf98f"
      },
      "execution_count": 21,
      "outputs": [
        {
          "output_type": "stream",
          "name": "stdout",
          "text": [
            "[1 2 3 4 5]\n"
          ]
        }
      ]
    },
    {
      "cell_type": "code",
      "source": [
        "a.shape"
      ],
      "metadata": {
        "colab": {
          "base_uri": "https://localhost:8080/"
        },
        "id": "R9wnNAOeztQ-",
        "outputId": "780fedf6-7854-4800-adfe-2dd2777e59be"
      },
      "execution_count": 22,
      "outputs": [
        {
          "output_type": "execute_result",
          "data": {
            "text/plain": [
              "(5,)"
            ]
          },
          "metadata": {},
          "execution_count": 22
        }
      ]
    },
    {
      "cell_type": "code",
      "source": [
        "# creating a 2 Dimensional array in numpy\n",
        "b = np.array([(1, 2, 3, 4, 5), (6, 7, 8, 9, 10)])\n",
        "print(b)"
      ],
      "metadata": {
        "colab": {
          "base_uri": "https://localhost:8080/"
        },
        "id": "xGEAOujZzvG9",
        "outputId": "12d865f9-cc8f-4ffe-e148-6af82ba49c7c"
      },
      "execution_count": 23,
      "outputs": [
        {
          "output_type": "stream",
          "name": "stdout",
          "text": [
            "[[ 1  2  3  4  5]\n",
            " [ 6  7  8  9 10]]\n"
          ]
        }
      ]
    },
    {
      "cell_type": "code",
      "source": [
        "b.shape"
      ],
      "metadata": {
        "colab": {
          "base_uri": "https://localhost:8080/"
        },
        "id": "7EEr7Jm20J52",
        "outputId": "4296765e-64f0-4ef1-ecea-6069914da53c"
      },
      "execution_count": 24,
      "outputs": [
        {
          "output_type": "execute_result",
          "data": {
            "text/plain": [
              "(2, 5)"
            ]
          },
          "metadata": {},
          "execution_count": 24
        }
      ]
    },
    {
      "cell_type": "code",
      "source": [
        "# creating an numpy array with floating point values\n",
        "c = np.array([(1, 2, 3, 4, 5), (6, 7, 8, 9, 10)], dtype = float)\n",
        "print(c)"
      ],
      "metadata": {
        "colab": {
          "base_uri": "https://localhost:8080/"
        },
        "id": "PLJuiejK0Vjt",
        "outputId": "d4478ed6-c6e8-4091-976d-afce8d9ce2ee"
      },
      "execution_count": 25,
      "outputs": [
        {
          "output_type": "stream",
          "name": "stdout",
          "text": [
            "[[ 1.  2.  3.  4.  5.]\n",
            " [ 6.  7.  8.  9. 10.]]\n"
          ]
        }
      ]
    },
    {
      "cell_type": "markdown",
      "source": [
        "Initialization of numpy array or Initial Placeholders in numpy arrays"
      ],
      "metadata": {
        "id": "zcaW8RY101GF"
      }
    },
    {
      "cell_type": "code",
      "source": [
        "# creating a numpy array of Zeros\n",
        "x = np.zeros((4,5))\n",
        "print(x)"
      ],
      "metadata": {
        "colab": {
          "base_uri": "https://localhost:8080/"
        },
        "id": "bV3EK9D50okF",
        "outputId": "8824dbc5-bdd7-44d0-e335-2a7469b9853b"
      },
      "execution_count": 26,
      "outputs": [
        {
          "output_type": "stream",
          "name": "stdout",
          "text": [
            "[[0. 0. 0. 0. 0.]\n",
            " [0. 0. 0. 0. 0.]\n",
            " [0. 0. 0. 0. 0.]\n",
            " [0. 0. 0. 0. 0.]]\n"
          ]
        }
      ]
    },
    {
      "cell_type": "code",
      "source": [
        "# creating a numpy array of ones\n",
        "y = np.ones((3,3))\n",
        "print(y)"
      ],
      "metadata": {
        "colab": {
          "base_uri": "https://localhost:8080/"
        },
        "id": "60XFiFMI1GEk",
        "outputId": "742face4-881a-455e-b6e4-afffb625aa53"
      },
      "execution_count": 27,
      "outputs": [
        {
          "output_type": "stream",
          "name": "stdout",
          "text": [
            "[[1. 1. 1.]\n",
            " [1. 1. 1.]\n",
            " [1. 1. 1.]]\n"
          ]
        }
      ]
    },
    {
      "cell_type": "code",
      "source": [
        "# creating a numpy array of particular values\n",
        "z = np.full((5, 4), 5)\n",
        "print(z)"
      ],
      "metadata": {
        "colab": {
          "base_uri": "https://localhost:8080/"
        },
        "id": "FLs8ryyG1VaN",
        "outputId": "2712697c-0c75-4cf4-bbc0-7dc3fcb56fca"
      },
      "execution_count": 28,
      "outputs": [
        {
          "output_type": "stream",
          "name": "stdout",
          "text": [
            "[[5 5 5 5]\n",
            " [5 5 5 5]\n",
            " [5 5 5 5]\n",
            " [5 5 5 5]\n",
            " [5 5 5 5]]\n"
          ]
        }
      ]
    },
    {
      "cell_type": "code",
      "source": [
        "# creating an identity matrix in numpy\n",
        "a = np.eye(5)\n",
        "print(a)"
      ],
      "metadata": {
        "colab": {
          "base_uri": "https://localhost:8080/"
        },
        "id": "mUDzthgK1qrU",
        "outputId": "36d6aec9-4a9f-4676-b795-9414c9f4bab3"
      },
      "execution_count": 30,
      "outputs": [
        {
          "output_type": "stream",
          "name": "stdout",
          "text": [
            "[[1. 0. 0. 0. 0.]\n",
            " [0. 1. 0. 0. 0.]\n",
            " [0. 0. 1. 0. 0.]\n",
            " [0. 0. 0. 1. 0.]\n",
            " [0. 0. 0. 0. 1.]]\n"
          ]
        }
      ]
    },
    {
      "cell_type": "code",
      "source": [
        "# create a numpy array with random values\n",
        "b = np.random.random((3, 4))\n",
        "print(b)"
      ],
      "metadata": {
        "colab": {
          "base_uri": "https://localhost:8080/"
        },
        "id": "BzGqithq19yM",
        "outputId": "df6245c2-fa73-41a6-ff6c-8143a9fc8729"
      },
      "execution_count": 32,
      "outputs": [
        {
          "output_type": "stream",
          "name": "stdout",
          "text": [
            "[[0.04578276 0.05086948 0.19220923 0.9141631 ]\n",
            " [0.24655212 0.16368987 0.00362509 0.45020376]\n",
            " [0.11377492 0.92609998 0.47520179 0.50261049]]\n"
          ]
        }
      ]
    },
    {
      "cell_type": "code",
      "source": [
        "# random integer values array within a specific range\n",
        "c = np.random.randint(10, 100, (3, 5))\n",
        "print(c)"
      ],
      "metadata": {
        "colab": {
          "base_uri": "https://localhost:8080/"
        },
        "id": "CRpDg2Yd2bpj",
        "outputId": "60a12371-4d93-476c-c225-0532468e6fae"
      },
      "execution_count": 33,
      "outputs": [
        {
          "output_type": "stream",
          "name": "stdout",
          "text": [
            "[[47 78 84 52 24]\n",
            " [54 54 42 88 50]\n",
            " [83 15 80 81 30]]\n"
          ]
        }
      ]
    },
    {
      "cell_type": "code",
      "source": [
        "# array of evenly spaced values --> specifying the number of values required\n",
        "d = np.linspace(10, 30, 6)\n",
        "print(d)"
      ],
      "metadata": {
        "colab": {
          "base_uri": "https://localhost:8080/"
        },
        "id": "gy0MQYig20as",
        "outputId": "06a13663-1f82-4b92-d8c4-c196be20864f"
      },
      "execution_count": 35,
      "outputs": [
        {
          "output_type": "stream",
          "name": "stdout",
          "text": [
            "[10. 14. 18. 22. 26. 30.]\n"
          ]
        }
      ]
    },
    {
      "cell_type": "code",
      "source": [
        "# array of evenly space values --> specifying the step value\n",
        "e = np.arange(10, 30, 5)\n",
        "print(e)"
      ],
      "metadata": {
        "colab": {
          "base_uri": "https://localhost:8080/"
        },
        "id": "PctWyaog3OqT",
        "outputId": "6479a66a-bb83-45fc-9306-f491617d781c"
      },
      "execution_count": 36,
      "outputs": [
        {
          "output_type": "stream",
          "name": "stdout",
          "text": [
            "[10 15 20 25]\n"
          ]
        }
      ]
    },
    {
      "cell_type": "code",
      "source": [
        "# convert a list to a numpy array\n",
        "list2 = [10, 20, 20, 30, 40, 50]\n",
        "\n",
        "np_arr = np.asarray(list2)\n",
        "print(np_arr)\n",
        "type(np_arr)"
      ],
      "metadata": {
        "colab": {
          "base_uri": "https://localhost:8080/"
        },
        "id": "Z1ZnlZLy3mGD",
        "outputId": "2f0ba462-6e75-473e-e8ff-ca042a80d980"
      },
      "execution_count": 37,
      "outputs": [
        {
          "output_type": "stream",
          "name": "stdout",
          "text": [
            "[10 20 20 30 40 50]\n"
          ]
        },
        {
          "output_type": "execute_result",
          "data": {
            "text/plain": [
              "numpy.ndarray"
            ]
          },
          "metadata": {},
          "execution_count": 37
        }
      ]
    },
    {
      "cell_type": "code",
      "source": [
        "# convert a tuple to a numpy array\n",
        "list3 = (10, 20, 20, 30, 40, 50)\n",
        "print(type(list3))\n",
        "np_array = np.asarray(list3)\n",
        "print(np_array)\n",
        "type(np_array)"
      ],
      "metadata": {
        "colab": {
          "base_uri": "https://localhost:8080/"
        },
        "id": "ox-9wWTh4Ifb",
        "outputId": "16d678ae-c6a0-4f73-bbe9-117ab54538f7"
      },
      "execution_count": 43,
      "outputs": [
        {
          "output_type": "stream",
          "name": "stdout",
          "text": [
            "<class 'tuple'>\n",
            "[10 20 20 30 40 50]\n"
          ]
        },
        {
          "output_type": "execute_result",
          "data": {
            "text/plain": [
              "numpy.ndarray"
            ]
          },
          "metadata": {},
          "execution_count": 43
        }
      ]
    },
    {
      "cell_type": "markdown",
      "source": [
        "Analysing a numpy array"
      ],
      "metadata": {
        "id": "vqAfv1aa417C"
      }
    },
    {
      "cell_type": "code",
      "source": [
        "c = np.random.randint(10, 90, (5, 5))\n",
        "print(c)"
      ],
      "metadata": {
        "colab": {
          "base_uri": "https://localhost:8080/"
        },
        "id": "UdFNG5gq4Vc7",
        "outputId": "3a94ca20-44ed-42b1-e22b-3b6873f3f0a4"
      },
      "execution_count": 44,
      "outputs": [
        {
          "output_type": "stream",
          "name": "stdout",
          "text": [
            "[[40 52 28 43 18]\n",
            " [49 30 32 82 61]\n",
            " [34 85 44 57 30]\n",
            " [13 72 41 64 44]\n",
            " [45 52 28 67 60]]\n"
          ]
        }
      ]
    },
    {
      "cell_type": "code",
      "source": [
        "# array dimension\n",
        "print(c.shape)"
      ],
      "metadata": {
        "colab": {
          "base_uri": "https://localhost:8080/"
        },
        "id": "MSfzR3zn4-c7",
        "outputId": "cd466207-f110-4566-8d02-33b5ede505cb"
      },
      "execution_count": 45,
      "outputs": [
        {
          "output_type": "stream",
          "name": "stdout",
          "text": [
            "(5, 5)\n"
          ]
        }
      ]
    },
    {
      "cell_type": "code",
      "source": [
        "# number of dimensions\n",
        "print(c.ndim)"
      ],
      "metadata": {
        "colab": {
          "base_uri": "https://localhost:8080/"
        },
        "id": "zZ9ujQp-5OcC",
        "outputId": "b8067b28-fca0-44ec-b1ba-d6a706c17fd6"
      },
      "execution_count": 46,
      "outputs": [
        {
          "output_type": "stream",
          "name": "stdout",
          "text": [
            "2\n"
          ]
        }
      ]
    },
    {
      "cell_type": "code",
      "source": [
        "# number of elements in an array\n",
        "print(c.size)"
      ],
      "metadata": {
        "colab": {
          "base_uri": "https://localhost:8080/"
        },
        "id": "PHZxyr005S7r",
        "outputId": "5bd9cd8b-9dd1-4d12-ce6e-8eb0aae9d5ba"
      },
      "execution_count": 47,
      "outputs": [
        {
          "output_type": "stream",
          "name": "stdout",
          "text": [
            "25\n"
          ]
        }
      ]
    },
    {
      "cell_type": "code",
      "source": [
        "# checking the data type of the values in the array\n",
        "print(c.dtype)"
      ],
      "metadata": {
        "colab": {
          "base_uri": "https://localhost:8080/"
        },
        "id": "H0IdkfTe5Y-J",
        "outputId": "70c1bc1c-dc39-410f-c6d7-320bebccdb44"
      },
      "execution_count": 48,
      "outputs": [
        {
          "output_type": "stream",
          "name": "stdout",
          "text": [
            "int64\n"
          ]
        }
      ]
    },
    {
      "cell_type": "markdown",
      "source": [
        "Mathematical Operations on a np array"
      ],
      "metadata": {
        "id": "CvP-42LI5p-U"
      }
    },
    {
      "cell_type": "code",
      "source": [
        "list1 = [1, 2, 3, 4, 5]\n",
        "list2 = [6, 7, 8, 9, 10]\n",
        "\n",
        "print(list1 + list2) # concatenates or joins two lists"
      ],
      "metadata": {
        "colab": {
          "base_uri": "https://localhost:8080/"
        },
        "id": "fwpUV9AP5nUC",
        "outputId": "7d3cf160-4383-4c3b-ea8b-0e614cd75799"
      },
      "execution_count": 49,
      "outputs": [
        {
          "output_type": "stream",
          "name": "stdout",
          "text": [
            "[1, 2, 3, 4, 5, 6, 7, 8, 9, 10]\n"
          ]
        }
      ]
    },
    {
      "cell_type": "code",
      "source": [
        "a = np.random.randint(10, 20, (3, 3))\n",
        "b = np.random.randint(20, 30, (3, 3))\n",
        "\n",
        "print(a)\n",
        "print(b)"
      ],
      "metadata": {
        "colab": {
          "base_uri": "https://localhost:8080/"
        },
        "id": "AoyRA5qQ6SzR",
        "outputId": "d6345c28-064b-4dd8-bc86-4f3b03490718"
      },
      "execution_count": 50,
      "outputs": [
        {
          "output_type": "stream",
          "name": "stdout",
          "text": [
            "[[15 18 19]\n",
            " [17 10 14]\n",
            " [17 12 11]]\n",
            "[[23 26 27]\n",
            " [25 25 27]\n",
            " [29 21 27]]\n"
          ]
        }
      ]
    },
    {
      "cell_type": "code",
      "source": [
        "print(a + b)"
      ],
      "metadata": {
        "colab": {
          "base_uri": "https://localhost:8080/"
        },
        "id": "eI5oAXLN6hZS",
        "outputId": "be798a5a-3dd8-4b77-d405-3b48251cec8c"
      },
      "execution_count": 52,
      "outputs": [
        {
          "output_type": "stream",
          "name": "stdout",
          "text": [
            "[[38 44 46]\n",
            " [42 35 41]\n",
            " [46 33 38]]\n"
          ]
        }
      ]
    },
    {
      "cell_type": "code",
      "source": [
        "print(a - b)"
      ],
      "metadata": {
        "colab": {
          "base_uri": "https://localhost:8080/"
        },
        "id": "6bSTPX5s6qYZ",
        "outputId": "58259c7d-d984-4ccc-e8f1-f7aac2cc7005"
      },
      "execution_count": 53,
      "outputs": [
        {
          "output_type": "stream",
          "name": "stdout",
          "text": [
            "[[ -8  -8  -8]\n",
            " [ -8 -15 -13]\n",
            " [-12  -9 -16]]\n"
          ]
        }
      ]
    },
    {
      "cell_type": "code",
      "source": [
        "print(a * b)"
      ],
      "metadata": {
        "colab": {
          "base_uri": "https://localhost:8080/"
        },
        "id": "Zi3walIr6v6B",
        "outputId": "641ed185-8bb7-43cd-98f5-5bd5af05b496"
      },
      "execution_count": 54,
      "outputs": [
        {
          "output_type": "stream",
          "name": "stdout",
          "text": [
            "[[345 468 513]\n",
            " [425 250 378]\n",
            " [493 252 297]]\n"
          ]
        }
      ]
    },
    {
      "cell_type": "code",
      "source": [
        "print(a / b)"
      ],
      "metadata": {
        "colab": {
          "base_uri": "https://localhost:8080/"
        },
        "id": "JQuDqsJH6ytJ",
        "outputId": "06fd34cf-65ab-4b97-a76d-e938c911f67f"
      },
      "execution_count": 55,
      "outputs": [
        {
          "output_type": "stream",
          "name": "stdout",
          "text": [
            "[[0.65217391 0.69230769 0.7037037 ]\n",
            " [0.68       0.4        0.51851852]\n",
            " [0.5862069  0.57142857 0.40740741]]\n"
          ]
        }
      ]
    },
    {
      "cell_type": "code",
      "source": [
        "a = np.random.randint(10, 20, (3, 3))\n",
        "b = np.random.randint(20, 30, (3, 3))\n",
        "\n",
        "print(a)\n",
        "print(b)"
      ],
      "metadata": {
        "colab": {
          "base_uri": "https://localhost:8080/"
        },
        "id": "erNe_52860HR",
        "outputId": "092efad6-696a-4660-e7d6-aea6fc646241"
      },
      "execution_count": 56,
      "outputs": [
        {
          "output_type": "stream",
          "name": "stdout",
          "text": [
            "[[14 11 17]\n",
            " [16 19 16]\n",
            " [18 18 14]]\n",
            "[[25 22 24]\n",
            " [27 28 27]\n",
            " [26 29 26]]\n"
          ]
        }
      ]
    },
    {
      "cell_type": "code",
      "source": [
        "print(np.add(a, b))"
      ],
      "metadata": {
        "colab": {
          "base_uri": "https://localhost:8080/"
        },
        "id": "5iK6jXk166b5",
        "outputId": "d2f1f8ba-a31f-48d9-e29f-597638117fda"
      },
      "execution_count": 57,
      "outputs": [
        {
          "output_type": "stream",
          "name": "stdout",
          "text": [
            "[[39 33 41]\n",
            " [43 47 43]\n",
            " [44 47 40]]\n"
          ]
        }
      ]
    },
    {
      "cell_type": "code",
      "source": [
        "print(np.subtract(a, b))"
      ],
      "metadata": {
        "colab": {
          "base_uri": "https://localhost:8080/"
        },
        "id": "yap5HRL76_BJ",
        "outputId": "2e22c354-b2d3-4918-e66e-e98d24e37196"
      },
      "execution_count": 59,
      "outputs": [
        {
          "output_type": "stream",
          "name": "stdout",
          "text": [
            "[[-11 -11  -7]\n",
            " [-11  -9 -11]\n",
            " [ -8 -11 -12]]\n"
          ]
        }
      ]
    },
    {
      "cell_type": "code",
      "source": [
        "print(np.multiply(a, b))"
      ],
      "metadata": {
        "colab": {
          "base_uri": "https://localhost:8080/"
        },
        "id": "B8CDLDDd7DNh",
        "outputId": "e9c4e878-2f4a-4f02-ffd0-d007e830e4e8"
      },
      "execution_count": 60,
      "outputs": [
        {
          "output_type": "stream",
          "name": "stdout",
          "text": [
            "[[350 242 408]\n",
            " [432 532 432]\n",
            " [468 522 364]]\n"
          ]
        }
      ]
    },
    {
      "cell_type": "code",
      "source": [
        "print(np.divide(a, b))"
      ],
      "metadata": {
        "colab": {
          "base_uri": "https://localhost:8080/"
        },
        "id": "AGltqexO7I2Z",
        "outputId": "8d8453b2-0fd7-4b36-d25e-58753030c0ba"
      },
      "execution_count": 61,
      "outputs": [
        {
          "output_type": "stream",
          "name": "stdout",
          "text": [
            "[[0.56       0.5        0.70833333]\n",
            " [0.59259259 0.67857143 0.59259259]\n",
            " [0.69230769 0.62068966 0.53846154]]\n"
          ]
        }
      ]
    },
    {
      "cell_type": "markdown",
      "source": [
        "Array Manipulation"
      ],
      "metadata": {
        "id": "u8yKoFrS7beZ"
      }
    },
    {
      "cell_type": "code",
      "source": [
        "array = np.random.randint(0, 10, (2, 3))\n",
        "print(array)\n",
        "print(array.shape)"
      ],
      "metadata": {
        "colab": {
          "base_uri": "https://localhost:8080/"
        },
        "id": "QND0wjBs7MAZ",
        "outputId": "7c8bb23a-7a6f-44cc-d537-71653caaa93e"
      },
      "execution_count": 64,
      "outputs": [
        {
          "output_type": "stream",
          "name": "stdout",
          "text": [
            "[[7 6 6]\n",
            " [6 0 6]]\n",
            "(2, 3)\n"
          ]
        }
      ]
    },
    {
      "cell_type": "code",
      "source": [
        "# transpose of array matrix\n",
        "trans = np.transpose(array)\n",
        "print(trans)\n",
        "print(trans.shape)"
      ],
      "metadata": {
        "colab": {
          "base_uri": "https://localhost:8080/"
        },
        "id": "Bd0e9PpB7lFh",
        "outputId": "6c53a61b-98e0-4035-b28a-170ddf32b5c6"
      },
      "execution_count": 63,
      "outputs": [
        {
          "output_type": "stream",
          "name": "stdout",
          "text": [
            "[[8 4]\n",
            " [0 3]\n",
            " [5 0]]\n",
            "(3, 2)\n"
          ]
        }
      ]
    },
    {
      "cell_type": "code",
      "source": [
        "array = np.random.randint(0, 10, (2, 3))\n",
        "print(array)\n",
        "print(array.shape)"
      ],
      "metadata": {
        "colab": {
          "base_uri": "https://localhost:8080/"
        },
        "id": "CYxa8oeC7uJB",
        "outputId": "14b5e3d1-ce42-45eb-c1d5-435d1fa3dd9e"
      },
      "execution_count": 65,
      "outputs": [
        {
          "output_type": "stream",
          "name": "stdout",
          "text": [
            "[[0 1 4]\n",
            " [4 1 4]]\n",
            "(2, 3)\n"
          ]
        }
      ]
    },
    {
      "cell_type": "code",
      "source": [
        "# another method to transpose a matrix\n",
        "trans2 = array.T\n",
        "print(trans2)\n",
        "print(trans2.shape)"
      ],
      "metadata": {
        "colab": {
          "base_uri": "https://localhost:8080/"
        },
        "id": "1VLI-2_h79kB",
        "outputId": "8d187019-f633-414f-a1ef-5e3db52af3b0"
      },
      "execution_count": 66,
      "outputs": [
        {
          "output_type": "stream",
          "name": "stdout",
          "text": [
            "[[0 4]\n",
            " [1 1]\n",
            " [4 4]]\n",
            "(3, 2)\n"
          ]
        }
      ]
    },
    {
      "cell_type": "code",
      "source": [
        "# reshaping an array\n",
        "arr = np.random.randint(0, 10, (2, 3))\n",
        "print(arr)\n",
        "print(arr.shape)"
      ],
      "metadata": {
        "colab": {
          "base_uri": "https://localhost:8080/"
        },
        "id": "rKeYAs8C8JuJ",
        "outputId": "2581e3b1-f877-4987-bfc4-3c654385794b"
      },
      "execution_count": 67,
      "outputs": [
        {
          "output_type": "stream",
          "name": "stdout",
          "text": [
            "[[3 0 4]\n",
            " [9 7 9]]\n",
            "(2, 3)\n"
          ]
        }
      ]
    },
    {
      "cell_type": "code",
      "source": [
        "b = arr.reshape(3,2)\n",
        "print(b)\n",
        "print(b.shape)"
      ],
      "metadata": {
        "colab": {
          "base_uri": "https://localhost:8080/"
        },
        "id": "79jIRTzF8qVY",
        "outputId": "2017d22f-d172-49a0-a83d-35bdffd45dae"
      },
      "execution_count": 68,
      "outputs": [
        {
          "output_type": "stream",
          "name": "stdout",
          "text": [
            "[[3 0]\n",
            " [4 9]\n",
            " [7 9]]\n",
            "(3, 2)\n"
          ]
        }
      ]
    },
    {
      "cell_type": "code",
      "source": [],
      "metadata": {
        "id": "W0etrDWf8wRw"
      },
      "execution_count": null,
      "outputs": []
    }
  ]
}