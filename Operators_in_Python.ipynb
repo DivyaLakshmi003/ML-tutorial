{
  "nbformat": 4,
  "nbformat_minor": 0,
  "metadata": {
    "colab": {
      "provenance": [],
      "authorship_tag": "ABX9TyP+7ZLHMz88VpirSH0OP7uT",
      "include_colab_link": true
    },
    "kernelspec": {
      "name": "python3",
      "display_name": "Python 3"
    },
    "language_info": {
      "name": "python"
    }
  },
  "cells": [
    {
      "cell_type": "markdown",
      "metadata": {
        "id": "view-in-github",
        "colab_type": "text"
      },
      "source": [
        "<a href=\"https://colab.research.google.com/github/DivyaLakshmi003/ML-tutorial/blob/main/Operators_in_Python.ipynb\" target=\"_parent\"><img src=\"https://colab.research.google.com/assets/colab-badge.svg\" alt=\"Open In Colab\"/></a>"
      ]
    },
    {
      "cell_type": "markdown",
      "source": [
        "Operators in Python:"
      ],
      "metadata": {
        "id": "uHZVD7ljVPLS"
      }
    },
    {
      "cell_type": "markdown",
      "source": [
        "1. Arithmetic Operators\n",
        "2. Assignment Operators\n",
        "3. Comparison Operators\n",
        "4. Logical Operators\n",
        "5. Identity Operators\n",
        "6. Membership Operator"
      ],
      "metadata": {
        "id": "8iFa6pNdVTWq"
      }
    },
    {
      "cell_type": "markdown",
      "source": [
        "1. Arithmetic Operators"
      ],
      "metadata": {
        "id": "nLVnhVq6WFFy"
      }
    },
    {
      "cell_type": "code",
      "execution_count": 1,
      "metadata": {
        "colab": {
          "base_uri": "https://localhost:8080/"
        },
        "id": "oVxfBhWWVKTP",
        "outputId": "69ca2e53-d910-4d19-b268-fc5de075d8bb"
      },
      "outputs": [
        {
          "output_type": "stream",
          "name": "stdout",
          "text": [
            "sum =  30\n",
            "difference =  10\n",
            "product =  200\n",
            "quotient =  2.0\n",
            "modulus =  0\n",
            "exponent =  10240000000000\n"
          ]
        }
      ],
      "source": [
        "num1 = 20\n",
        "num2 = 10\n",
        "\n",
        "# addition\n",
        "sum = num1 + num2\n",
        "print('sum = ', sum)\n",
        "\n",
        "# substraction\n",
        "diff = num1 - num2\n",
        "print('difference = ', diff)\n",
        "\n",
        "# multiplication\n",
        "pro = num1 * num2\n",
        "print('product = ', pro)\n",
        "\n",
        "# division\n",
        "quo = num1 / num2\n",
        "print('quotient = ', quo)\n",
        "\n",
        "# modulus\n",
        "mod = num1 % num2\n",
        "print('modulus = ', mod)\n",
        "\n",
        "# exponent\n",
        "expo = num1 ** num2\n",
        "print('exponent = ', expo)"
      ]
    },
    {
      "cell_type": "markdown",
      "source": [
        "2. Assignment Operators\n",
        "+=, -=, *=, /=, **=, %="
      ],
      "metadata": {
        "id": "iCaVSP1HYsGI"
      }
    },
    {
      "cell_type": "code",
      "source": [
        "a = 5\n",
        "print(a)"
      ],
      "metadata": {
        "colab": {
          "base_uri": "https://localhost:8080/"
        },
        "id": "TJjftTeJXUaj",
        "outputId": "77a17479-d0b0-488f-cdd1-61e119166338"
      },
      "execution_count": 2,
      "outputs": [
        {
          "output_type": "stream",
          "name": "stdout",
          "text": [
            "5\n"
          ]
        }
      ]
    },
    {
      "cell_type": "code",
      "source": [
        "a = 5\n",
        "a += 5 # a = a + 5\n",
        "print(a)"
      ],
      "metadata": {
        "colab": {
          "base_uri": "https://localhost:8080/"
        },
        "id": "yMDzXXE_YxEp",
        "outputId": "61f77c3a-91cf-4742-d5c0-0c68f1dbacd7"
      },
      "execution_count": 6,
      "outputs": [
        {
          "output_type": "stream",
          "name": "stdout",
          "text": [
            "10\n"
          ]
        }
      ]
    },
    {
      "cell_type": "code",
      "source": [
        "b = 5\n",
        "b -= 2 # b = b - 2\n",
        "print(b)"
      ],
      "metadata": {
        "colab": {
          "base_uri": "https://localhost:8080/"
        },
        "id": "Ji5IktOhY1SB",
        "outputId": "b3cb8f43-c1d7-4101-d44a-23bd7bd895de"
      },
      "execution_count": 7,
      "outputs": [
        {
          "output_type": "stream",
          "name": "stdout",
          "text": [
            "3\n"
          ]
        }
      ]
    },
    {
      "cell_type": "markdown",
      "source": [
        "3. Comparison Operators"
      ],
      "metadata": {
        "id": "XyHKJs8xZ4hP"
      }
    },
    {
      "cell_type": "code",
      "source": [
        "a = 5\n",
        "b = 10\n",
        "\n",
        "print(a == b)\n",
        "print(a != b)\n",
        "print(a > b)\n",
        "print(a < b)\n",
        "print(a <= b)\n",
        "print(a >= b)"
      ],
      "metadata": {
        "colab": {
          "base_uri": "https://localhost:8080/"
        },
        "id": "mFmsKCpxZKWQ",
        "outputId": "08f5a087-7dd5-4bf4-eff4-d4b1557402bc"
      },
      "execution_count": 8,
      "outputs": [
        {
          "output_type": "stream",
          "name": "stdout",
          "text": [
            "False\n",
            "True\n",
            "False\n",
            "True\n",
            "True\n",
            "False\n"
          ]
        }
      ]
    },
    {
      "cell_type": "markdown",
      "source": [
        "4. Logical Operator\n",
        "\n",
        "and , or , not"
      ],
      "metadata": {
        "id": "VMMlKxC0aOYe"
      }
    },
    {
      "cell_type": "code",
      "source": [
        "a = 10\n",
        "\n",
        "print(a > 20 and a > 5)\n",
        "print(a > 20 or a > 5)\n",
        "print(not(a > 20 and a > 5))"
      ],
      "metadata": {
        "colab": {
          "base_uri": "https://localhost:8080/"
        },
        "id": "VHD0dUEtaJo4",
        "outputId": "d6a1bb21-5206-4d8b-d98f-452838934db9"
      },
      "execution_count": 10,
      "outputs": [
        {
          "output_type": "stream",
          "name": "stdout",
          "text": [
            "False\n",
            "True\n",
            "True\n"
          ]
        }
      ]
    },
    {
      "cell_type": "markdown",
      "source": [
        "5. Identity Operator:\n",
        "is , is not"
      ],
      "metadata": {
        "id": "HVVmBvgbao2I"
      }
    },
    {
      "cell_type": "code",
      "source": [
        "x = 5\n",
        "y = 5\n",
        "\n",
        "print(x is y)"
      ],
      "metadata": {
        "colab": {
          "base_uri": "https://localhost:8080/"
        },
        "id": "cVcRFgKbaa8n",
        "outputId": "484f2d1d-932d-400e-c3b0-955f5726aa11"
      },
      "execution_count": 11,
      "outputs": [
        {
          "output_type": "stream",
          "name": "stdout",
          "text": [
            "True\n"
          ]
        }
      ]
    },
    {
      "cell_type": "code",
      "source": [
        "x = 5\n",
        "y = 10\n",
        "\n",
        "print(x is y)"
      ],
      "metadata": {
        "colab": {
          "base_uri": "https://localhost:8080/"
        },
        "id": "F_hqJcVqa2OP",
        "outputId": "6a7acda6-00be-4604-a973-64d9ddb8cc29"
      },
      "execution_count": 12,
      "outputs": [
        {
          "output_type": "stream",
          "name": "stdout",
          "text": [
            "False\n"
          ]
        }
      ]
    },
    {
      "cell_type": "code",
      "source": [
        "x = 5\n",
        "y = 5\n",
        "\n",
        "print(x is not y)"
      ],
      "metadata": {
        "colab": {
          "base_uri": "https://localhost:8080/"
        },
        "id": "uYYDPb5Qa6XP",
        "outputId": "b4c28c81-15ba-4276-9014-5acc942d7e07"
      },
      "execution_count": 13,
      "outputs": [
        {
          "output_type": "stream",
          "name": "stdout",
          "text": [
            "False\n"
          ]
        }
      ]
    },
    {
      "cell_type": "code",
      "source": [
        "x = 5\n",
        "y = 10\n",
        "\n",
        "print(x is not y)"
      ],
      "metadata": {
        "colab": {
          "base_uri": "https://localhost:8080/"
        },
        "id": "EHZNhIHEa-Lg",
        "outputId": "67e12d54-4f67-49c3-e5f5-a4ab1969e089"
      },
      "execution_count": 15,
      "outputs": [
        {
          "output_type": "stream",
          "name": "stdout",
          "text": [
            "True\n"
          ]
        }
      ]
    },
    {
      "cell_type": "markdown",
      "source": [
        "6. Membership Operator:\n",
        "in , not in"
      ],
      "metadata": {
        "id": "qovkEV46bQW4"
      }
    },
    {
      "cell_type": "code",
      "source": [
        "a = 6\n",
        "b = 10\n",
        "\n",
        "c = [1, 2, 3, 4, 5, 6]\n",
        "print(a in c)\n",
        "print(b in c)"
      ],
      "metadata": {
        "colab": {
          "base_uri": "https://localhost:8080/"
        },
        "id": "AdUcPsmGbVK-",
        "outputId": "cebdc61d-f220-41b1-f8ac-4038ef2a532a"
      },
      "execution_count": 16,
      "outputs": [
        {
          "output_type": "stream",
          "name": "stdout",
          "text": [
            "True\n",
            "False\n"
          ]
        }
      ]
    },
    {
      "cell_type": "code",
      "source": [
        "a = 6\n",
        "b = 10\n",
        "\n",
        "c = [1, 2, 3, 4, 5, 6]\n",
        "print(a not in c)\n",
        "print(b not in c)"
      ],
      "metadata": {
        "colab": {
          "base_uri": "https://localhost:8080/"
        },
        "id": "IT_GhZt2bAve",
        "outputId": "aa70cf33-72ff-4ecd-86f0-182a4b86ff9f"
      },
      "execution_count": 18,
      "outputs": [
        {
          "output_type": "stream",
          "name": "stdout",
          "text": [
            "False\n",
            "True\n"
          ]
        }
      ]
    },
    {
      "cell_type": "code",
      "source": [],
      "metadata": {
        "id": "JN5SB7qlbrVe"
      },
      "execution_count": null,
      "outputs": []
    }
  ]
}