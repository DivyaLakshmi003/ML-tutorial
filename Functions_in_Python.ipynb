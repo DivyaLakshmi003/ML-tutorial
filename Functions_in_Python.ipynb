{
  "nbformat": 4,
  "nbformat_minor": 0,
  "metadata": {
    "colab": {
      "provenance": [],
      "authorship_tag": "ABX9TyNW0WsBhPxWfPIt6l/VQzfm",
      "include_colab_link": true
    },
    "kernelspec": {
      "name": "python3",
      "display_name": "Python 3"
    },
    "language_info": {
      "name": "python"
    }
  },
  "cells": [
    {
      "cell_type": "markdown",
      "metadata": {
        "id": "view-in-github",
        "colab_type": "text"
      },
      "source": [
        "<a href=\"https://colab.research.google.com/github/DivyaLakshmi003/ML-tutorial/blob/main/Functions_in_Python.ipynb\" target=\"_parent\"><img src=\"https://colab.research.google.com/assets/colab-badge.svg\" alt=\"Open In Colab\"/></a>"
      ]
    },
    {
      "cell_type": "markdown",
      "source": [
        "Functions:\n",
        "\n"
      ],
      "metadata": {
        "id": "7YFCwhM6lqZB"
      }
    },
    {
      "cell_type": "markdown",
      "source": [
        "Function is a block of code that can be reused in a Program.\n",
        "\n",
        "For example:\n",
        "\n",
        "Factorial of a Number:\n",
        "eg:\n",
        "Factorial of 5 = 5 x 4 x 3 x 2 x 1"
      ],
      "metadata": {
        "id": "vsOzz_TilwSA"
      }
    },
    {
      "cell_type": "code",
      "source": [
        "number = int(input('Enter a number to find its factorial: '))\n",
        "\n",
        "factorial = 1\n",
        "\n",
        "if number == 0:\n",
        "  print(' The factorial of 0 is 1')\n",
        "else:\n",
        "  for i in range(1, number+1):\n",
        "    factorial *= i\n",
        "    print( factorial)\n",
        "\n",
        "print('The factorial of number', number, 'is : ', factorial)"
      ],
      "metadata": {
        "colab": {
          "base_uri": "https://localhost:8080/"
        },
        "id": "Q1nxxkivlvX4",
        "outputId": "2d0b7882-1e64-46e6-c0a7-81dd9f63340b"
      },
      "execution_count": 5,
      "outputs": [
        {
          "output_type": "stream",
          "name": "stdout",
          "text": [
            "Enter a number to find its factorial: 5\n",
            "1\n",
            "2\n",
            "6\n",
            "24\n",
            "120\n",
            "The factorial of number 5 is :  120\n"
          ]
        }
      ]
    },
    {
      "cell_type": "code",
      "source": [
        "def calculateFactorial(num):\n",
        "  factorial = 1;\n",
        "  if num == 0:\n",
        "    return factorial;\n",
        "\n",
        "  for i in range(1, num + 1):\n",
        "    factorial *= i\n",
        "  return factorial"
      ],
      "metadata": {
        "id": "8OJkCSdtmqqD"
      },
      "execution_count": 7,
      "outputs": []
    },
    {
      "cell_type": "code",
      "source": [
        "print(calculateFactorial(5))"
      ],
      "metadata": {
        "colab": {
          "base_uri": "https://localhost:8080/"
        },
        "id": "MUQwTygon8Bw",
        "outputId": "a33619dd-15db-4e82-aa3a-9f884072ba3f"
      },
      "execution_count": 8,
      "outputs": [
        {
          "output_type": "stream",
          "name": "stdout",
          "text": [
            "120\n"
          ]
        }
      ]
    },
    {
      "cell_type": "code",
      "source": [
        "print(calculateFactorial(10))"
      ],
      "metadata": {
        "colab": {
          "base_uri": "https://localhost:8080/"
        },
        "id": "N8VtwVTmn_X_",
        "outputId": "ec73c72e-123e-40f1-99e4-2ece588ccdae"
      },
      "execution_count": 9,
      "outputs": [
        {
          "output_type": "stream",
          "name": "stdout",
          "text": [
            "3628800\n"
          ]
        }
      ]
    },
    {
      "cell_type": "code",
      "source": [],
      "metadata": {
        "id": "kOoSPxvnoJCw"
      },
      "execution_count": null,
      "outputs": []
    }
  ]
}