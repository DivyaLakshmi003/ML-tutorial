{
  "nbformat": 4,
  "nbformat_minor": 0,
  "metadata": {
    "colab": {
      "provenance": [],
      "authorship_tag": "ABX9TyOUIdMqwEj/v4/0Wid5HVqN",
      "include_colab_link": true
    },
    "kernelspec": {
      "name": "python3",
      "display_name": "Python 3"
    },
    "language_info": {
      "name": "python"
    }
  },
  "cells": [
    {
      "cell_type": "markdown",
      "metadata": {
        "id": "view-in-github",
        "colab_type": "text"
      },
      "source": [
        "<a href=\"https://colab.research.google.com/github/DivyaLakshmi003/ML-tutorial/blob/main/if_else_statement_in_Python.ipynb\" target=\"_parent\"><img src=\"https://colab.research.google.com/assets/colab-badge.svg\" alt=\"Open In Colab\"/></a>"
      ]
    },
    {
      "cell_type": "markdown",
      "source": [
        "Simple if else statment"
      ],
      "metadata": {
        "id": "8JtH50MKdl0G"
      }
    },
    {
      "cell_type": "code",
      "execution_count": 1,
      "metadata": {
        "colab": {
          "base_uri": "https://localhost:8080/"
        },
        "id": "PpjvcdBOdgsz",
        "outputId": "7dfa1afa-ff07-4667-9c6e-68a73eed0d7c"
      },
      "outputs": [
        {
          "output_type": "stream",
          "name": "stdout",
          "text": [
            "b is the greater number\n"
          ]
        }
      ],
      "source": [
        "a = 40\n",
        "b = 50\n",
        "\n",
        "if(a > b):\n",
        "  print('a is the greater number')\n",
        "else:\n",
        "  print('b is the greater number')"
      ]
    },
    {
      "cell_type": "code",
      "source": [
        "a = int(input('Enter the 1st number: '))\n",
        "b = int(input('Enter the 2st number: '))\n",
        "\n",
        "print(\"1st num = \", a)\n",
        "print(\"2st num = \", b)\n",
        "\n",
        "if(a > b):\n",
        "  print('a is the greater number')\n",
        "else:\n",
        "  print('b is the greater number')"
      ],
      "metadata": {
        "colab": {
          "base_uri": "https://localhost:8080/"
        },
        "id": "w6EAU05bd3JW",
        "outputId": "4d82190d-b8c4-497b-873d-fe548b34daf9"
      },
      "execution_count": 2,
      "outputs": [
        {
          "output_type": "stream",
          "name": "stdout",
          "text": [
            "Enter the 1st number: 30\n",
            "Enter the 2st number: 10\n",
            "1st num =  30\n",
            "2st num =  10\n",
            "a is the greater number\n"
          ]
        }
      ]
    },
    {
      "cell_type": "markdown",
      "source": [
        "if elif else statement"
      ],
      "metadata": {
        "id": "6Xy616jce1HM"
      }
    },
    {
      "cell_type": "code",
      "source": [
        "a = 15\n",
        "b = 24\n",
        "c = 42\n",
        "\n",
        "if(b < a > c):\n",
        "  print('a is the greatest number')\n",
        "elif(a < b > c):\n",
        "  print('b is the greatest number')\n",
        "else:\n",
        "  print('c is the greatest number')"
      ],
      "metadata": {
        "colab": {
          "base_uri": "https://localhost:8080/"
        },
        "id": "gtTO1iFOei0N",
        "outputId": "24c373f9-f9bf-4061-f459-1e0fa47aa2e0"
      },
      "execution_count": 4,
      "outputs": [
        {
          "output_type": "stream",
          "name": "stdout",
          "text": [
            "c is the greatest number\n"
          ]
        }
      ]
    },
    {
      "cell_type": "markdown",
      "source": [
        "Nested if statement"
      ],
      "metadata": {
        "id": "-flVZeM9f8C1"
      }
    },
    {
      "cell_type": "code",
      "source": [
        "a = 20\n",
        "b = 40\n",
        "c = 60\n",
        "\n",
        "if(a>b):\n",
        "  if(a>c):\n",
        "    print('a is the greatest number')\n",
        "  else:\n",
        "    print('c is the greatest number')\n",
        "else:\n",
        "  if(b>c):\n",
        "    print('b is the greatest number')\n",
        "  else:\n",
        "    print('c is the greatest number')"
      ],
      "metadata": {
        "colab": {
          "base_uri": "https://localhost:8080/"
        },
        "id": "URK-H2EVfbqV",
        "outputId": "f5cd5552-18a7-4a9a-a1ad-be1f6143848e"
      },
      "execution_count": 5,
      "outputs": [
        {
          "output_type": "stream",
          "name": "stdout",
          "text": [
            "c is the greatest number\n"
          ]
        }
      ]
    },
    {
      "cell_type": "code",
      "source": [],
      "metadata": {
        "id": "1yDMz70NgTZl"
      },
      "execution_count": null,
      "outputs": []
    }
  ]
}